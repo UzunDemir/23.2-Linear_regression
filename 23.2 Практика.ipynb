{
 "cells": [
  {
   "cell_type": "markdown",
   "metadata": {
    "id": "-TTaZZ7R4ipW"
   },
   "source": [
    "## Линейная регрессия"
   ]
  },
  {
   "cell_type": "markdown",
   "metadata": {
    "id": "k8t3fHwz4mCz"
   },
   "source": [
    "В этом практическом задании четыре обязательных и одна дополнительная задача. \n",
    "<br>\n",
    "*Обязательные задачи* помогут проверить, что вы действительно усвоили материал. Если у вас всё получилось, можете переходить к следующей теме.\n",
    "<br>\n",
    "*Дополнительная задача* для тех, кто хочет потренироваться в подготовке данных для обучения модели и использовании алгоритма линейной регрессии. \n",
    "<br>\n",
    "Удачи!"
   ]
  },
  {
   "cell_type": "markdown",
   "metadata": {
    "id": "dV1Uubnk4rru"
   },
   "source": [
    "Цели практического задания: \n",
    "\n",
    "1.   Научиться пользоваться моделью линейной регрессии.\n",
    "2.   Потренироваться в использовании метрики MAE.\n",
    "3.   Научиться использовать категориальные фичи для задачи линейной регрессии.\n",
    "\n",
    "\n"
   ]
  },
  {
   "cell_type": "markdown",
   "metadata": {
    "id": "QSFsqgdWmb5B"
   },
   "source": [
    "В этом практическом задании вы будете работать с данными, которые мы разбирали в видео. В них указаны расходы, выставленные медицинскими страховыми компаниями по клиентам.\n",
    "\n",
    "Этот датасет мы будем использовать для предсказания расходов по страховке, исходя из характеристик клиента."
   ]
  },
  {
   "cell_type": "markdown",
   "metadata": {
    "id": "bWeuH44q8cc7"
   },
   "source": [
    "**Описание данных:**\n",
    "\n",
    "*age*: возраст;\n",
    "\n",
    "*sex*: пол женский/мужской;\n",
    "\n",
    "*bmi*: индекс массы тела;\n",
    "\n",
    "*children*: количество детей/иждивенцев, входящих в страховку;\n",
    "\n",
    "*smoker*: курящий/некурящий;\n",
    "\n",
    "*region*: район проживания в США, северо-восток, юго-восток, юго-запад, северо-запад;\n",
    "\n",
    "*charges*: расходы по страховке."
   ]
  },
  {
   "cell_type": "markdown",
   "metadata": {
    "id": "iAQK5lBD4tzZ"
   },
   "source": [
    "## Обязательные задачи"
   ]
  },
  {
   "cell_type": "code",
   "execution_count": 78,
   "metadata": {
    "id": "z_VUxqsRAEkH"
   },
   "outputs": [],
   "source": [
    "# импортируем нужные библиотеки\n",
    "import matplotlib.pyplot as plt\n",
    "import pandas as pd\n",
    "\n",
    "from sklearn.linear_model import LinearRegression\n",
    "from sklearn.metrics import mean_absolute_error\n",
    "from sklearn.model_selection import train_test_split "
   ]
  },
  {
   "cell_type": "code",
   "execution_count": 79,
   "metadata": {
    "colab": {
     "base_uri": "https://localhost:8080/",
     "height": 423
    },
    "id": "Eh_c-Iy04k0s",
    "outputId": "38d05070-1224-495d-d2e0-e9526d2b7ff4"
   },
   "outputs": [
    {
     "data": {
      "text/html": [
       "<div>\n",
       "<style scoped>\n",
       "    .dataframe tbody tr th:only-of-type {\n",
       "        vertical-align: middle;\n",
       "    }\n",
       "\n",
       "    .dataframe tbody tr th {\n",
       "        vertical-align: top;\n",
       "    }\n",
       "\n",
       "    .dataframe thead th {\n",
       "        text-align: right;\n",
       "    }\n",
       "</style>\n",
       "<table border=\"1\" class=\"dataframe\">\n",
       "  <thead>\n",
       "    <tr style=\"text-align: right;\">\n",
       "      <th></th>\n",
       "      <th>age</th>\n",
       "      <th>sex</th>\n",
       "      <th>bmi</th>\n",
       "      <th>children</th>\n",
       "      <th>smoker</th>\n",
       "      <th>region</th>\n",
       "      <th>charges</th>\n",
       "    </tr>\n",
       "  </thead>\n",
       "  <tbody>\n",
       "    <tr>\n",
       "      <th>0</th>\n",
       "      <td>19</td>\n",
       "      <td>female</td>\n",
       "      <td>27.900</td>\n",
       "      <td>0</td>\n",
       "      <td>yes</td>\n",
       "      <td>southwest</td>\n",
       "      <td>16884.92400</td>\n",
       "    </tr>\n",
       "    <tr>\n",
       "      <th>1</th>\n",
       "      <td>18</td>\n",
       "      <td>male</td>\n",
       "      <td>33.770</td>\n",
       "      <td>1</td>\n",
       "      <td>no</td>\n",
       "      <td>southeast</td>\n",
       "      <td>1725.55230</td>\n",
       "    </tr>\n",
       "    <tr>\n",
       "      <th>2</th>\n",
       "      <td>28</td>\n",
       "      <td>male</td>\n",
       "      <td>33.000</td>\n",
       "      <td>3</td>\n",
       "      <td>no</td>\n",
       "      <td>southeast</td>\n",
       "      <td>4449.46200</td>\n",
       "    </tr>\n",
       "    <tr>\n",
       "      <th>3</th>\n",
       "      <td>33</td>\n",
       "      <td>male</td>\n",
       "      <td>22.705</td>\n",
       "      <td>0</td>\n",
       "      <td>no</td>\n",
       "      <td>northwest</td>\n",
       "      <td>21984.47061</td>\n",
       "    </tr>\n",
       "    <tr>\n",
       "      <th>4</th>\n",
       "      <td>32</td>\n",
       "      <td>male</td>\n",
       "      <td>28.880</td>\n",
       "      <td>0</td>\n",
       "      <td>no</td>\n",
       "      <td>northwest</td>\n",
       "      <td>3866.85520</td>\n",
       "    </tr>\n",
       "    <tr>\n",
       "      <th>...</th>\n",
       "      <td>...</td>\n",
       "      <td>...</td>\n",
       "      <td>...</td>\n",
       "      <td>...</td>\n",
       "      <td>...</td>\n",
       "      <td>...</td>\n",
       "      <td>...</td>\n",
       "    </tr>\n",
       "    <tr>\n",
       "      <th>1333</th>\n",
       "      <td>50</td>\n",
       "      <td>male</td>\n",
       "      <td>30.970</td>\n",
       "      <td>3</td>\n",
       "      <td>no</td>\n",
       "      <td>northwest</td>\n",
       "      <td>10600.54830</td>\n",
       "    </tr>\n",
       "    <tr>\n",
       "      <th>1334</th>\n",
       "      <td>18</td>\n",
       "      <td>female</td>\n",
       "      <td>31.920</td>\n",
       "      <td>0</td>\n",
       "      <td>no</td>\n",
       "      <td>northeast</td>\n",
       "      <td>2205.98080</td>\n",
       "    </tr>\n",
       "    <tr>\n",
       "      <th>1335</th>\n",
       "      <td>18</td>\n",
       "      <td>female</td>\n",
       "      <td>36.850</td>\n",
       "      <td>0</td>\n",
       "      <td>no</td>\n",
       "      <td>southeast</td>\n",
       "      <td>1629.83350</td>\n",
       "    </tr>\n",
       "    <tr>\n",
       "      <th>1336</th>\n",
       "      <td>21</td>\n",
       "      <td>female</td>\n",
       "      <td>25.800</td>\n",
       "      <td>0</td>\n",
       "      <td>no</td>\n",
       "      <td>southwest</td>\n",
       "      <td>2007.94500</td>\n",
       "    </tr>\n",
       "    <tr>\n",
       "      <th>1337</th>\n",
       "      <td>61</td>\n",
       "      <td>female</td>\n",
       "      <td>29.070</td>\n",
       "      <td>0</td>\n",
       "      <td>yes</td>\n",
       "      <td>northwest</td>\n",
       "      <td>29141.36030</td>\n",
       "    </tr>\n",
       "  </tbody>\n",
       "</table>\n",
       "<p>1338 rows × 7 columns</p>\n",
       "</div>"
      ],
      "text/plain": [
       "      age     sex     bmi  children smoker     region      charges\n",
       "0      19  female  27.900         0    yes  southwest  16884.92400\n",
       "1      18    male  33.770         1     no  southeast   1725.55230\n",
       "2      28    male  33.000         3     no  southeast   4449.46200\n",
       "3      33    male  22.705         0     no  northwest  21984.47061\n",
       "4      32    male  28.880         0     no  northwest   3866.85520\n",
       "...   ...     ...     ...       ...    ...        ...          ...\n",
       "1333   50    male  30.970         3     no  northwest  10600.54830\n",
       "1334   18  female  31.920         0     no  northeast   2205.98080\n",
       "1335   18  female  36.850         0     no  southeast   1629.83350\n",
       "1336   21  female  25.800         0     no  southwest   2007.94500\n",
       "1337   61  female  29.070         0    yes  northwest  29141.36030\n",
       "\n",
       "[1338 rows x 7 columns]"
      ]
     },
     "execution_count": 79,
     "metadata": {},
     "output_type": "execute_result"
    }
   ],
   "source": [
    "# загрузим датасет и выведем\n",
    "df = pd.read_csv('23.2 insurance.csv')\n",
    "df"
   ]
  },
  {
   "cell_type": "markdown",
   "metadata": {
    "id": "vwtxI6yCkIw2"
   },
   "source": [
    "**Задача 0. Подготовка данных для обучения**\n",
    "\n",
    "Проделайте следующие шаги на этом датафрейме:\n",
    "\n",
    "1. Создайте датафрейм, положите в него данные по клиентам-женщинам, у которых нет детей, и сумма страховки менее 15 тысяч долларов.\n",
    "2. Постройте график зависимости стоимости страховки от возраста. Проверьте, что у вас получился следующий график."
   ]
  },
  {
   "cell_type": "code",
   "execution_count": 80,
   "metadata": {
    "colab": {
     "base_uri": "https://localhost:8080/",
     "height": 313
    },
    "id": "wmT0SboOpYxD",
    "outputId": "76a9afb0-19e7-4131-c875-4ace2b6ce487"
   },
   "outputs": [
    {
     "data": {
      "text/plain": [
       "(228, 7)"
      ]
     },
     "execution_count": 80,
     "metadata": {},
     "output_type": "execute_result"
    }
   ],
   "source": [
    "# Ваш код здесь\n",
    "df_new = df[(df.children==0) & (df.charges < 15000) & (df.sex == 'female')]\n",
    "df_new.shape"
   ]
  },
  {
   "cell_type": "code",
   "execution_count": 83,
   "metadata": {},
   "outputs": [],
   "source": [
    "# создадим функцию визуализации данных \n",
    "def show_age_charges(df):\n",
    "    plt.plot(df['age'], df.charges, 'ro') \n",
    "    plt.xlabel('age')\n",
    "    plt.ylabel('charges')\n",
    "    plt.title('Зависимость стоимости страховки от возраста')\n",
    "    plt.show()"
   ]
  },
  {
   "cell_type": "code",
   "execution_count": 84,
   "metadata": {
    "scrolled": true
   },
   "outputs": [
    {
     "data": {
      "image/png": "[encoded data removed]",
      "text/plain": [
       "<Figure size 432x288 with 1 Axes>"
      ]
     },
     "metadata": {
      "needs_background": "light"
     },
     "output_type": "display_data"
    }
   ],
   "source": [
    "show_age_charges(df_new)"
   ]
  },
  {
   "cell_type": "markdown",
   "metadata": {
    "id": "EXGfrcqRqL-Q"
   },
   "source": [
    "**Задача 1. Удаление выбросов и обучение модели линейной регрессии**\n",
    "\n",
    "Проделайте следующие шаги:\n",
    "\n",
    "3. Удалите  значения charges в выбросах, их на картинке 10 штук. Заново отрисуйте график и убедитесь, что выбросы действительно удалены.\n",
    "4. Поделите данные на треин и тест выборку в отношении 80/20.\n",
    "5. Обучите модель линейной регрессии с дефолтными параметрами на одной входной фиче: age; померьте качество на тесте с помощью метрики MAE."
   ]
  },
  {
   "cell_type": "code",
   "execution_count": 86,
   "metadata": {
    "id": "rxX4q5ssDFNE"
   },
   "outputs": [
    {
     "data": {
      "image/png": "[encoded data removed]",
      "text/plain": [
       "<Figure size 432x288 with 1 Axes>"
      ]
     },
     "metadata": {
      "needs_background": "light"
     },
     "output_type": "display_data"
    },
    {
     "name": "stdout",
     "output_type": "stream",
     "text": [
      "(218, 7)\n"
     ]
    }
   ],
   "source": [
    "# Ваш код здесь\n",
    "index_for_delete = df_new[(df_new.charges > 6000) & (df_new.age < 30)].index\n",
    "index_for_delete_1 = df_new[(df_new.charges > 12000) & (df_new.age < 50)].index\n",
    "df_new = df_new.drop(list(index_for_delete) + list(index_for_delete_1))\n",
    "#df_new = df_new.drop(index_for_delete)\n",
    "#df_new = df_new.drop(index_for_delete_1)\n",
    "\n",
    "show_age_charges(df_new)\n",
    "print(df_new.shape)\n"
   ]
  },
  {
   "cell_type": "code",
   "execution_count": 29,
   "metadata": {},
   "outputs": [
    {
     "name": "stdout",
     "output_type": "stream",
     "text": [
      "(218, 7)\n"
     ]
    },
    {
     "data": {
      "image/png": "[encoded data removed]",
      "text/plain": [
       "<Figure size 432x288 with 1 Axes>"
      ]
     },
     "metadata": {
      "needs_background": "light"
     },
     "output_type": "display_data"
    }
   ],
   "source": [
    "indx = df_new[(df_new.charges >= 6000) & (df_new.age<30)].index\n",
    "indx1 = df_new[(df_new.charges >= 12000) & (df_new.age<50)].index\n",
    "\n",
    "df_new = df_new.drop(list(indx) + list(indx1))\n",
    "print(df_new.shape)\n",
    "\n",
    "show_age_charges(df_new)"
   ]
  },
  {
   "cell_type": "markdown",
   "metadata": {
    "id": "mKmaO9wZC02v"
   },
   "source": [
    "**Задача 2. Обучение модели линейной регрессии на нескольких фичах**\n",
    "\n",
    "Обучите модель линейной регрессии с дефолтными параметрами на данных из предыдущего задания на всех непрерывных фичах, которые есть в датасете. Заранее удалите фичи, в которых присутствует только одно единственное значение.\n",
    "\n",
    "Рассчитайте новое значение метрики на тестовой выборке. Улучшилась ли метрика по сравнению с предыдущим заданием?"
   ]
  },
  {
   "cell_type": "code",
   "execution_count": 112,
   "metadata": {},
   "outputs": [
    {
     "data": {
      "text/plain": [
       "589.2828328455392"
      ]
     },
     "execution_count": 112,
     "metadata": {},
     "output_type": "execute_result"
    }
   ],
   "source": [
    "# разобьем датасет на train, test\n",
    "train, test = train_test_split(df_new, test_size=0.2, random_state=42)\n",
    "\n",
    "# проведем обучение модели по одному признаку-фиче 'age'\n",
    "lr = LinearRegression()\n",
    "lr.fit(train[['age']], train.charges)\n",
    "\n",
    "# рассчитаем МАЕ\n",
    "pred = lr.predict(test[['age']])\n",
    "mean_absolute_error(test.charges, pred)"
   ]
  },
  {
   "cell_type": "code",
   "execution_count": 128,
   "metadata": {
    "id": "jd7TZp7VGVTv"
   },
   "outputs": [
    {
     "name": "stdout",
     "output_type": "stream",
     "text": [
      "1890\n",
      "female\n",
      "5532.01\n",
      "0\n",
      "no\n",
      "southeastnortheastnorthwestsouthwest\n",
      "1469231.4960500002\n"
     ]
    }
   ],
   "source": [
    "# Ваш код здесь\n",
    "df_new.sex.unique()\n",
    "for col in df_new:\n",
    "    print(df_new[col].unique().sum())\n",
    "    #c = df_new[col].value_counts () / len(df_new) == 1\n",
    "    \n",
    "    #print(c)\n",
    "    \n",
    "\n"
   ]
  },
  {
   "cell_type": "markdown",
   "metadata": {
    "id": "IOxn2EQxGue5"
   },
   "source": [
    "**Задача 3. Обучение модели линейной регрессии с категориальными фичами**\n",
    "\n",
    "Обучите модель линейной регрессии с дефолтными параметрами на всех фичах, которые есть в датасете. Заранее удалите фичи, в которых присутствует только одно единственное значение. Категориальные фичи преобразуйте с помощью OneHotEncoder.\n",
    "\n",
    "Рассчитайте новое значение метрики на тестовой выборке. Улучшилась ли метрика по сравнению с предыдущим заданием?"
   ]
  },
  {
   "cell_type": "code",
   "execution_count": null,
   "metadata": {
    "id": "yJkBzzK7DMQg"
   },
   "outputs": [],
   "source": [
    "# Ваш код здесь"
   ]
  },
  {
   "cell_type": "markdown",
   "metadata": {
    "id": "Wf23UEeIDvd3"
   },
   "source": [
    "## Дополнительные задачи"
   ]
  },
  {
   "cell_type": "markdown",
   "metadata": {
    "id": "5Ug5slJjbU8f"
   },
   "source": [
    "Попробуйте обучить модель линейной регрессии на всех данных, которые лежат в `insurance.csv`. Чтобы улучшить показание метрики, попробуйте проделать следующие действия:\n",
    "- проанализируйте данные на выбросы, подумайте над стратегией как с ними работать так, чтобы модель не ухудшала из-за них свою предсказательную способность;\n",
    "- используйте только значимые фичи, то есть те, которые влияют на целевую переменную (в этом случае может помочь матрица корреляций и построение графиков зависимости категориальных фичей от целевой переменной);\n",
    "- используйте scaler для преобразования входных данных;\n",
    "- попробуйте сгенерировать новые фичи (например из `age` сделать различные категории: молодой, старый).\n"
   ]
  },
  {
   "cell_type": "code",
   "execution_count": null,
   "metadata": {
    "id": "dG8yMWouPrNa"
   },
   "outputs": [],
   "source": []
  },
  {
   "cell_type": "markdown",
   "metadata": {
    "id": "DTVUY8JXn-dJ"
   },
   "source": [
    "-"
   ]
  },
  {
   "cell_type": "markdown",
   "metadata": {
    "id": "Ohu-OcTrn-sw"
   },
   "source": [
    "-"
   ]
  },
  {
   "cell_type": "markdown",
   "metadata": {
    "id": "gUoDyaGEn-1G"
   },
   "source": [
    "-"
   ]
  },
  {
   "cell_type": "markdown",
   "metadata": {
    "id": "8FI2Fhg2n-97"
   },
   "source": [
    "-"
   ]
  },
  {
   "cell_type": "markdown",
   "metadata": {
    "id": "RukYrDw4n_Gy"
   },
   "source": [
    "-"
   ]
  },
  {
   "cell_type": "markdown",
   "metadata": {
    "id": "IvaLDMudn_iX"
   },
   "source": [
    "-"
   ]
  },
  {
   "cell_type": "markdown",
   "metadata": {
    "id": "LKX-Bx5yn_ls"
   },
   "source": [
    "-"
   ]
  },
  {
   "cell_type": "markdown",
   "metadata": {
    "id": "m0BPuv1Dn_ov"
   },
   "source": [
    "-"
   ]
  },
  {
   "cell_type": "code",
   "execution_count": null,
   "metadata": {
    "id": "wBRRVm9Wmic_"
   },
   "outputs": [],
   "source": [
    "# Решение (Задача 1)\n",
    "def show_age_charges(df):\n",
    "    plt.plot(df['age'], df['charges'], 'ro') \n",
    "    plt.xlabel('age')\n",
    "    plt.ylabel('charges')\n",
    "    plt.title('Зависимость стоимости страховки от возраста')\n",
    "    plt.show()"
   ]
  },
  {
   "cell_type": "code",
   "execution_count": null,
   "metadata": {
    "colab": {
     "base_uri": "https://localhost:8080/",
     "height": 313
    },
    "id": "ZZ9yy6xmB0l1",
    "outputId": "93d47d68-d2d8-4fda-e4e6-78fc4f4e2e7d"
   },
   "outputs": [
    {
     "name": "stdout",
     "output_type": "stream",
     "text": [
      "(228, 7)\n"
     ]
    },
    {
     "data": {
      "image/png": "[encoded data removed]",
      "text/plain": [
       "<Figure size 432x288 with 1 Axes>"
      ]
     },
     "metadata": {
      "needs_background": "light"
     },
     "output_type": "display_data"
    }
   ],
   "source": [
    "df_new = df[(df.children==0) & (df.charges < 15000) & (df.sex == 'female')]\n",
    "print(df_new.shape)\n",
    "\n",
    "show_age_charges(df_new)"
   ]
  },
  {
   "cell_type": "code",
   "execution_count": null,
   "metadata": {
    "colab": {
     "base_uri": "https://localhost:8080/",
     "height": 313
    },
    "id": "bZ08nz8pm_uU",
    "outputId": "eb4c54e1-83e8-49a5-c17e-f6bab171c3cf"
   },
   "outputs": [
    {
     "name": "stdout",
     "output_type": "stream",
     "text": [
      "(218, 7)\n"
     ]
    },
    {
     "data": {
      "image/png": "[encoded data removed]",
      "text/plain": [
       "<Figure size 432x288 with 1 Axes>"
      ]
     },
     "metadata": {
      "needs_background": "light"
     },
     "output_type": "display_data"
    }
   ],
   "source": [
    "# один из возможных вариантов удаления\n",
    "indx = df_new[(df_new.charges >= 6000) & (df_new.age<30)].index\n",
    "indx1 = df_new[(df_new.charges >= 12000) & (df_new.age<50)].index\n",
    "\n",
    "df_new = df_new.drop(list(indx) + list(indx1))\n",
    "print(df_new.shape)\n",
    "\n",
    "show_age_charges(df_new)"
   ]
  },
  {
   "cell_type": "code",
   "execution_count": null,
   "metadata": {
    "colab": {
     "base_uri": "https://localhost:8080/"
    },
    "id": "fwCCKBnrnQiG",
    "outputId": "b1aabbb7-342e-4077-bc2b-064ca16f0c07"
   },
   "outputs": [
    {
     "data": {
      "text/plain": [
       "589.2828328455392"
      ]
     },
     "execution_count": 6,
     "metadata": {},
     "output_type": "execute_result"
    }
   ],
   "source": [
    "train, test = train_test_split(df_new, test_size=0.2, random_state=42)\n",
    "\n",
    "lr = LinearRegression()\n",
    "lr.fit(train[['age']], train.charges)\n",
    "pred = lr.predict(test[['age']])\n",
    "mean_absolute_error(test.charges, pred)"
   ]
  },
  {
   "cell_type": "markdown",
   "metadata": {
    "id": "kHXALKyme3ET"
   },
   "source": [
    "Замечание:\n",
    "В видео мы обучали линейную регрессию на данных с выбросами, и ошибка была порядка ~1500$. Сейчас мы обучили модель без выбросов, и модель показала результат намного лучше. Линейная регрессия очень чувствительна к наличию выбросов в обучающей выборке. Поэтому данные нужно хорошо подготовить, прежде чем обучать на них линейную регрессию. "
   ]
  },
  {
   "cell_type": "markdown",
   "metadata": {
    "id": "EE3HZ2lhonBj"
   },
   "source": [
    "-"
   ]
  },
  {
   "cell_type": "markdown",
   "metadata": {
    "id": "z6JXFo11onIY"
   },
   "source": [
    "-"
   ]
  },
  {
   "cell_type": "markdown",
   "metadata": {
    "id": "_lHZ2HTwonQQ"
   },
   "source": [
    "-"
   ]
  },
  {
   "cell_type": "code",
   "execution_count": null,
   "metadata": {
    "colab": {
     "base_uri": "https://localhost:8080/"
    },
    "id": "7EjTodpfoA5n",
    "outputId": "d637f92e-159a-4896-ad62-3a08312eabbb"
   },
   "outputs": [
    {
     "data": {
      "text/plain": [
       "590.8305083474556"
      ]
     },
     "execution_count": 7,
     "metadata": {},
     "output_type": "execute_result"
    }
   ],
   "source": [
    "# Решение (Задача 2)\n",
    "new_cols = ['age', 'bmi', 'charges']\n",
    "train, test = train_test_split(df_new[new_cols], test_size=0.2, random_state=42)\n",
    "\n",
    "lr = LinearRegression()\n",
    "lr.fit(train.drop(['charges'], axis=1), train.charges)\n",
    "pred = lr.predict(test.drop(['charges'], axis=1))\n",
    "mean_absolute_error(test.charges, pred)"
   ]
  },
  {
   "cell_type": "markdown",
   "metadata": {
    "id": "arjeKFluo1zb"
   },
   "source": [
    "-"
   ]
  },
  {
   "cell_type": "markdown",
   "metadata": {
    "id": "AflmL31Ko16W"
   },
   "source": [
    "-"
   ]
  },
  {
   "cell_type": "markdown",
   "metadata": {
    "id": "VvzfL4V5o2BF"
   },
   "source": [
    "-"
   ]
  },
  {
   "cell_type": "code",
   "execution_count": null,
   "metadata": {
    "colab": {
     "base_uri": "https://localhost:8080/",
     "height": 394
    },
    "id": "GqhkIzkHCUQM",
    "outputId": "59edffdd-3cdb-4679-d6ae-9aaa9f17569e"
   },
   "outputs": [
    {
     "data": {
      "text/html": [
       "\n",
       "  <div id=\"df-95d52d6b-4479-484a-82c8-4411f38bf27a\">\n",
       "    <div class=\"colab-df-container\">\n",
       "      <div>\n",
       "<style scoped>\n",
       "    .dataframe tbody tr th:only-of-type {\n",
       "        vertical-align: middle;\n",
       "    }\n",
       "\n",
       "    .dataframe tbody tr th {\n",
       "        vertical-align: top;\n",
       "    }\n",
       "\n",
       "    .dataframe thead th {\n",
       "        text-align: right;\n",
       "    }\n",
       "</style>\n",
       "<table border=\"1\" class=\"dataframe\">\n",
       "  <thead>\n",
       "    <tr style=\"text-align: right;\">\n",
       "      <th></th>\n",
       "      <th>age</th>\n",
       "      <th>sex</th>\n",
       "      <th>bmi</th>\n",
       "      <th>children</th>\n",
       "      <th>smoker</th>\n",
       "      <th>region</th>\n",
       "      <th>charges</th>\n",
       "    </tr>\n",
       "  </thead>\n",
       "  <tbody>\n",
       "    <tr>\n",
       "      <th>count</th>\n",
       "      <td>218.000000</td>\n",
       "      <td>218</td>\n",
       "      <td>218.000000</td>\n",
       "      <td>218.0</td>\n",
       "      <td>218</td>\n",
       "      <td>218</td>\n",
       "      <td>218.000000</td>\n",
       "    </tr>\n",
       "    <tr>\n",
       "      <th>unique</th>\n",
       "      <td>NaN</td>\n",
       "      <td>1</td>\n",
       "      <td>NaN</td>\n",
       "      <td>NaN</td>\n",
       "      <td>1</td>\n",
       "      <td>4</td>\n",
       "      <td>NaN</td>\n",
       "    </tr>\n",
       "    <tr>\n",
       "      <th>top</th>\n",
       "      <td>NaN</td>\n",
       "      <td>female</td>\n",
       "      <td>NaN</td>\n",
       "      <td>NaN</td>\n",
       "      <td>no</td>\n",
       "      <td>northeast</td>\n",
       "      <td>NaN</td>\n",
       "    </tr>\n",
       "    <tr>\n",
       "      <th>freq</th>\n",
       "      <td>NaN</td>\n",
       "      <td>218</td>\n",
       "      <td>NaN</td>\n",
       "      <td>NaN</td>\n",
       "      <td>218</td>\n",
       "      <td>58</td>\n",
       "      <td>NaN</td>\n",
       "    </tr>\n",
       "    <tr>\n",
       "      <th>mean</th>\n",
       "      <td>38.775229</td>\n",
       "      <td>NaN</td>\n",
       "      <td>30.310986</td>\n",
       "      <td>0.0</td>\n",
       "      <td>NaN</td>\n",
       "      <td>NaN</td>\n",
       "      <td>6739.594019</td>\n",
       "    </tr>\n",
       "    <tr>\n",
       "      <th>std</th>\n",
       "      <td>16.416243</td>\n",
       "      <td>NaN</td>\n",
       "      <td>5.958165</td>\n",
       "      <td>0.0</td>\n",
       "      <td>NaN</td>\n",
       "      <td>NaN</td>\n",
       "      <td>4455.839013</td>\n",
       "    </tr>\n",
       "    <tr>\n",
       "      <th>min</th>\n",
       "      <td>18.000000</td>\n",
       "      <td>NaN</td>\n",
       "      <td>17.290000</td>\n",
       "      <td>0.0</td>\n",
       "      <td>NaN</td>\n",
       "      <td>NaN</td>\n",
       "      <td>1607.510100</td>\n",
       "    </tr>\n",
       "    <tr>\n",
       "      <th>25%</th>\n",
       "      <td>22.000000</td>\n",
       "      <td>NaN</td>\n",
       "      <td>26.053750</td>\n",
       "      <td>0.0</td>\n",
       "      <td>NaN</td>\n",
       "      <td>NaN</td>\n",
       "      <td>2475.245350</td>\n",
       "    </tr>\n",
       "    <tr>\n",
       "      <th>50%</th>\n",
       "      <td>36.000000</td>\n",
       "      <td>NaN</td>\n",
       "      <td>29.925000</td>\n",
       "      <td>0.0</td>\n",
       "      <td>NaN</td>\n",
       "      <td>NaN</td>\n",
       "      <td>5269.996975</td>\n",
       "    </tr>\n",
       "    <tr>\n",
       "      <th>75%</th>\n",
       "      <td>56.000000</td>\n",
       "      <td>NaN</td>\n",
       "      <td>34.727500</td>\n",
       "      <td>0.0</td>\n",
       "      <td>NaN</td>\n",
       "      <td>NaN</td>\n",
       "      <td>11412.150800</td>\n",
       "    </tr>\n",
       "    <tr>\n",
       "      <th>max</th>\n",
       "      <td>64.000000</td>\n",
       "      <td>NaN</td>\n",
       "      <td>44.745000</td>\n",
       "      <td>0.0</td>\n",
       "      <td>NaN</td>\n",
       "      <td>NaN</td>\n",
       "      <td>14901.516700</td>\n",
       "    </tr>\n",
       "  </tbody>\n",
       "</table>\n",
       "</div>\n",
       "      <button class=\"colab-df-convert\" onclick=\"convertToInteractive('df-95d52d6b-4479-484a-82c8-4411f38bf27a')\"\n",
       "              title=\"Convert this dataframe to an interactive table.\"\n",
       "              style=\"display:none;\">\n",
       "        \n",
       "  <svg xmlns=\"http://www.w3.org/2000/svg\" height=\"24px\"viewBox=\"0 0 24 24\"\n",
       "       width=\"24px\">\n",
       "    <path d=\"M0 0h24v24H0V0z\" fill=\"none\"/>\n",
       "    <path d=\"M18.56 5.44l.94 2.06.94-2.06 2.06-.94-2.06-.94-.94-2.06-.94 2.06-2.06.94zm-11 1L8.5 8.5l.94-2.06 2.06-.94-2.06-.94L8.5 2.5l-.94 2.06-2.06.94zm10 10l.94 2.06.94-2.06 2.06-.94-2.06-.94-.94-2.06-.94 2.06-2.06.94z\"/><path d=\"M17.41 7.96l-1.37-1.37c-.4-.4-.92-.59-1.43-.59-.52 0-1.04.2-1.43.59L10.3 9.45l-7.72 7.72c-.78.78-.78 2.05 0 2.83L4 21.41c.39.39.9.59 1.41.59.51 0 1.02-.2 1.41-.59l7.78-7.78 2.81-2.81c.8-.78.8-2.07 0-2.86zM5.41 20L4 18.59l7.72-7.72 1.47 1.35L5.41 20z\"/>\n",
       "  </svg>\n",
       "      </button>\n",
       "      \n",
       "  <style>\n",
       "    .colab-df-container {\n",
       "      display:flex;\n",
       "      flex-wrap:wrap;\n",
       "      gap: 12px;\n",
       "    }\n",
       "\n",
       "    .colab-df-convert {\n",
       "      background-color: #E8F0FE;\n",
       "      border: none;\n",
       "      border-radius: 50%;\n",
       "      cursor: pointer;\n",
       "      display: none;\n",
       "      fill: #1967D2;\n",
       "      height: 32px;\n",
       "      padding: 0 0 0 0;\n",
       "      width: 32px;\n",
       "    }\n",
       "\n",
       "    .colab-df-convert:hover {\n",
       "      background-color: #E2EBFA;\n",
       "      box-shadow: 0px 1px 2px rgba(60, 64, 67, 0.3), 0px 1px 3px 1px rgba(60, 64, 67, 0.15);\n",
       "      fill: #174EA6;\n",
       "    }\n",
       "\n",
       "    [theme=dark] .colab-df-convert {\n",
       "      background-color: #3B4455;\n",
       "      fill: #D2E3FC;\n",
       "    }\n",
       "\n",
       "    [theme=dark] .colab-df-convert:hover {\n",
       "      background-color: #434B5C;\n",
       "      box-shadow: 0px 1px 3px 1px rgba(0, 0, 0, 0.15);\n",
       "      filter: drop-shadow(0px 1px 2px rgba(0, 0, 0, 0.3));\n",
       "      fill: #FFFFFF;\n",
       "    }\n",
       "  </style>\n",
       "\n",
       "      <script>\n",
       "        const buttonEl =\n",
       "          document.querySelector('#df-95d52d6b-4479-484a-82c8-4411f38bf27a button.colab-df-convert');\n",
       "        buttonEl.style.display =\n",
       "          google.colab.kernel.accessAllowed ? 'block' : 'none';\n",
       "\n",
       "        async function convertToInteractive(key) {\n",
       "          const element = document.querySelector('#df-95d52d6b-4479-484a-82c8-4411f38bf27a');\n",
       "          const dataTable =\n",
       "            await google.colab.kernel.invokeFunction('convertToInteractive',\n",
       "                                                     [key], {});\n",
       "          if (!dataTable) return;\n",
       "\n",
       "          const docLinkHtml = 'Like what you see? Visit the ' +\n",
       "            '<a target=\"_blank\" href=https://colab.research.google.com/notebooks/data_table.ipynb>data table notebook</a>'\n",
       "            + ' to learn more about interactive tables.';\n",
       "          element.innerHTML = '';\n",
       "          dataTable['output_type'] = 'display_data';\n",
       "          await google.colab.output.renderOutput(dataTable, element);\n",
       "          const docLink = document.createElement('div');\n",
       "          docLink.innerHTML = docLinkHtml;\n",
       "          element.appendChild(docLink);\n",
       "        }\n",
       "      </script>\n",
       "    </div>\n",
       "  </div>\n",
       "  "
      ],
      "text/plain": [
       "               age     sex         bmi  children smoker     region  \\\n",
       "count   218.000000     218  218.000000     218.0    218        218   \n",
       "unique         NaN       1         NaN       NaN      1          4   \n",
       "top            NaN  female         NaN       NaN     no  northeast   \n",
       "freq           NaN     218         NaN       NaN    218         58   \n",
       "mean     38.775229     NaN   30.310986       0.0    NaN        NaN   \n",
       "std      16.416243     NaN    5.958165       0.0    NaN        NaN   \n",
       "min      18.000000     NaN   17.290000       0.0    NaN        NaN   \n",
       "25%      22.000000     NaN   26.053750       0.0    NaN        NaN   \n",
       "50%      36.000000     NaN   29.925000       0.0    NaN        NaN   \n",
       "75%      56.000000     NaN   34.727500       0.0    NaN        NaN   \n",
       "max      64.000000     NaN   44.745000       0.0    NaN        NaN   \n",
       "\n",
       "             charges  \n",
       "count     218.000000  \n",
       "unique           NaN  \n",
       "top              NaN  \n",
       "freq             NaN  \n",
       "mean     6739.594019  \n",
       "std      4455.839013  \n",
       "min      1607.510100  \n",
       "25%      2475.245350  \n",
       "50%      5269.996975  \n",
       "75%     11412.150800  \n",
       "max     14901.516700  "
      ]
     },
     "execution_count": 28,
     "metadata": {},
     "output_type": "execute_result"
    }
   ],
   "source": [
    "# Решение (Задача 3)\n",
    "# смотрим какие колонки удалить\n",
    "df_new.describe(include='all')"
   ]
  },
  {
   "cell_type": "code",
   "execution_count": null,
   "metadata": {
    "colab": {
     "base_uri": "https://localhost:8080/",
     "height": 206
    },
    "id": "uswfLn4MMAiq",
    "outputId": "e8df80f7-038b-4c25-df96-c62967418d4c"
   },
   "outputs": [
    {
     "data": {
      "text/html": [
       "\n",
       "  <div id=\"df-b578f5de-2af7-4666-bbb3-7c3242b76c40\">\n",
       "    <div class=\"colab-df-container\">\n",
       "      <div>\n",
       "<style scoped>\n",
       "    .dataframe tbody tr th:only-of-type {\n",
       "        vertical-align: middle;\n",
       "    }\n",
       "\n",
       "    .dataframe tbody tr th {\n",
       "        vertical-align: top;\n",
       "    }\n",
       "\n",
       "    .dataframe thead th {\n",
       "        text-align: right;\n",
       "    }\n",
       "</style>\n",
       "<table border=\"1\" class=\"dataframe\">\n",
       "  <thead>\n",
       "    <tr style=\"text-align: right;\">\n",
       "      <th></th>\n",
       "      <th>age</th>\n",
       "      <th>bmi</th>\n",
       "      <th>region</th>\n",
       "      <th>charges</th>\n",
       "    </tr>\n",
       "  </thead>\n",
       "  <tbody>\n",
       "    <tr>\n",
       "      <th>521</th>\n",
       "      <td>32</td>\n",
       "      <td>44.220</td>\n",
       "      <td>southeast</td>\n",
       "      <td>3994.17780</td>\n",
       "    </tr>\n",
       "    <tr>\n",
       "      <th>579</th>\n",
       "      <td>25</td>\n",
       "      <td>23.465</td>\n",
       "      <td>northeast</td>\n",
       "      <td>3206.49135</td>\n",
       "    </tr>\n",
       "    <tr>\n",
       "      <th>671</th>\n",
       "      <td>29</td>\n",
       "      <td>31.160</td>\n",
       "      <td>northeast</td>\n",
       "      <td>3943.59540</td>\n",
       "    </tr>\n",
       "    <tr>\n",
       "      <th>789</th>\n",
       "      <td>62</td>\n",
       "      <td>29.920</td>\n",
       "      <td>southeast</td>\n",
       "      <td>13457.96080</td>\n",
       "    </tr>\n",
       "    <tr>\n",
       "      <th>523</th>\n",
       "      <td>38</td>\n",
       "      <td>37.730</td>\n",
       "      <td>southeast</td>\n",
       "      <td>5397.61670</td>\n",
       "    </tr>\n",
       "  </tbody>\n",
       "</table>\n",
       "</div>\n",
       "      <button class=\"colab-df-convert\" onclick=\"convertToInteractive('df-b578f5de-2af7-4666-bbb3-7c3242b76c40')\"\n",
       "              title=\"Convert this dataframe to an interactive table.\"\n",
       "              style=\"display:none;\">\n",
       "        \n",
       "  <svg xmlns=\"http://www.w3.org/2000/svg\" height=\"24px\"viewBox=\"0 0 24 24\"\n",
       "       width=\"24px\">\n",
       "    <path d=\"M0 0h24v24H0V0z\" fill=\"none\"/>\n",
       "    <path d=\"M18.56 5.44l.94 2.06.94-2.06 2.06-.94-2.06-.94-.94-2.06-.94 2.06-2.06.94zm-11 1L8.5 8.5l.94-2.06 2.06-.94-2.06-.94L8.5 2.5l-.94 2.06-2.06.94zm10 10l.94 2.06.94-2.06 2.06-.94-2.06-.94-.94-2.06-.94 2.06-2.06.94z\"/><path d=\"M17.41 7.96l-1.37-1.37c-.4-.4-.92-.59-1.43-.59-.52 0-1.04.2-1.43.59L10.3 9.45l-7.72 7.72c-.78.78-.78 2.05 0 2.83L4 21.41c.39.39.9.59 1.41.59.51 0 1.02-.2 1.41-.59l7.78-7.78 2.81-2.81c.8-.78.8-2.07 0-2.86zM5.41 20L4 18.59l7.72-7.72 1.47 1.35L5.41 20z\"/>\n",
       "  </svg>\n",
       "      </button>\n",
       "      \n",
       "  <style>\n",
       "    .colab-df-container {\n",
       "      display:flex;\n",
       "      flex-wrap:wrap;\n",
       "      gap: 12px;\n",
       "    }\n",
       "\n",
       "    .colab-df-convert {\n",
       "      background-color: #E8F0FE;\n",
       "      border: none;\n",
       "      border-radius: 50%;\n",
       "      cursor: pointer;\n",
       "      display: none;\n",
       "      fill: #1967D2;\n",
       "      height: 32px;\n",
       "      padding: 0 0 0 0;\n",
       "      width: 32px;\n",
       "    }\n",
       "\n",
       "    .colab-df-convert:hover {\n",
       "      background-color: #E2EBFA;\n",
       "      box-shadow: 0px 1px 2px rgba(60, 64, 67, 0.3), 0px 1px 3px 1px rgba(60, 64, 67, 0.15);\n",
       "      fill: #174EA6;\n",
       "    }\n",
       "\n",
       "    [theme=dark] .colab-df-convert {\n",
       "      background-color: #3B4455;\n",
       "      fill: #D2E3FC;\n",
       "    }\n",
       "\n",
       "    [theme=dark] .colab-df-convert:hover {\n",
       "      background-color: #434B5C;\n",
       "      box-shadow: 0px 1px 3px 1px rgba(0, 0, 0, 0.15);\n",
       "      filter: drop-shadow(0px 1px 2px rgba(0, 0, 0, 0.3));\n",
       "      fill: #FFFFFF;\n",
       "    }\n",
       "  </style>\n",
       "\n",
       "      <script>\n",
       "        const buttonEl =\n",
       "          document.querySelector('#df-b578f5de-2af7-4666-bbb3-7c3242b76c40 button.colab-df-convert');\n",
       "        buttonEl.style.display =\n",
       "          google.colab.kernel.accessAllowed ? 'block' : 'none';\n",
       "\n",
       "        async function convertToInteractive(key) {\n",
       "          const element = document.querySelector('#df-b578f5de-2af7-4666-bbb3-7c3242b76c40');\n",
       "          const dataTable =\n",
       "            await google.colab.kernel.invokeFunction('convertToInteractive',\n",
       "                                                     [key], {});\n",
       "          if (!dataTable) return;\n",
       "\n",
       "          const docLinkHtml = 'Like what you see? Visit the ' +\n",
       "            '<a target=\"_blank\" href=https://colab.research.google.com/notebooks/data_table.ipynb>data table notebook</a>'\n",
       "            + ' to learn more about interactive tables.';\n",
       "          element.innerHTML = '';\n",
       "          dataTable['output_type'] = 'display_data';\n",
       "          await google.colab.output.renderOutput(dataTable, element);\n",
       "          const docLink = document.createElement('div');\n",
       "          docLink.innerHTML = docLinkHtml;\n",
       "          element.appendChild(docLink);\n",
       "        }\n",
       "      </script>\n",
       "    </div>\n",
       "  </div>\n",
       "  "
      ],
      "text/plain": [
       "     age     bmi     region      charges\n",
       "521   32  44.220  southeast   3994.17780\n",
       "579   25  23.465  northeast   3206.49135\n",
       "671   29  31.160  northeast   3943.59540\n",
       "789   62  29.920  southeast  13457.96080\n",
       "523   38  37.730  southeast   5397.61670"
      ]
     },
     "execution_count": 29,
     "metadata": {},
     "output_type": "execute_result"
    }
   ],
   "source": [
    "df_new2 = df_new.drop(['sex', 'children', 'smoker'], axis=1)\n",
    "\n",
    "train, test = train_test_split(df_new2, test_size=0.2, random_state=42)\n",
    "train.head()"
   ]
  },
  {
   "cell_type": "code",
   "execution_count": null,
   "metadata": {
    "colab": {
     "base_uri": "https://localhost:8080/",
     "height": 206
    },
    "id": "tZWflhbdOZhp",
    "outputId": "454fe0c1-b19a-4ee4-e135-850e1ebfe620"
   },
   "outputs": [
    {
     "data": {
      "text/html": [
       "\n",
       "  <div id=\"df-2da86ff9-c98f-45e6-885f-3abb7fe5239c\">\n",
       "    <div class=\"colab-df-container\">\n",
       "      <div>\n",
       "<style scoped>\n",
       "    .dataframe tbody tr th:only-of-type {\n",
       "        vertical-align: middle;\n",
       "    }\n",
       "\n",
       "    .dataframe tbody tr th {\n",
       "        vertical-align: top;\n",
       "    }\n",
       "\n",
       "    .dataframe thead tr th {\n",
       "        text-align: left;\n",
       "    }\n",
       "</style>\n",
       "<table border=\"1\" class=\"dataframe\">\n",
       "  <thead>\n",
       "    <tr>\n",
       "      <th></th>\n",
       "      <th>northeast</th>\n",
       "      <th>northwest</th>\n",
       "      <th>southeast</th>\n",
       "      <th>southwest</th>\n",
       "    </tr>\n",
       "  </thead>\n",
       "  <tbody>\n",
       "    <tr>\n",
       "      <th>0</th>\n",
       "      <td>0.0</td>\n",
       "      <td>0.0</td>\n",
       "      <td>1.0</td>\n",
       "      <td>0.0</td>\n",
       "    </tr>\n",
       "    <tr>\n",
       "      <th>1</th>\n",
       "      <td>1.0</td>\n",
       "      <td>0.0</td>\n",
       "      <td>0.0</td>\n",
       "      <td>0.0</td>\n",
       "    </tr>\n",
       "    <tr>\n",
       "      <th>2</th>\n",
       "      <td>1.0</td>\n",
       "      <td>0.0</td>\n",
       "      <td>0.0</td>\n",
       "      <td>0.0</td>\n",
       "    </tr>\n",
       "    <tr>\n",
       "      <th>3</th>\n",
       "      <td>0.0</td>\n",
       "      <td>0.0</td>\n",
       "      <td>1.0</td>\n",
       "      <td>0.0</td>\n",
       "    </tr>\n",
       "    <tr>\n",
       "      <th>4</th>\n",
       "      <td>0.0</td>\n",
       "      <td>0.0</td>\n",
       "      <td>1.0</td>\n",
       "      <td>0.0</td>\n",
       "    </tr>\n",
       "  </tbody>\n",
       "</table>\n",
       "</div>\n",
       "      <button class=\"colab-df-convert\" onclick=\"convertToInteractive('df-2da86ff9-c98f-45e6-885f-3abb7fe5239c')\"\n",
       "              title=\"Convert this dataframe to an interactive table.\"\n",
       "              style=\"display:none;\">\n",
       "        \n",
       "  <svg xmlns=\"http://www.w3.org/2000/svg\" height=\"24px\"viewBox=\"0 0 24 24\"\n",
       "       width=\"24px\">\n",
       "    <path d=\"M0 0h24v24H0V0z\" fill=\"none\"/>\n",
       "    <path d=\"M18.56 5.44l.94 2.06.94-2.06 2.06-.94-2.06-.94-.94-2.06-.94 2.06-2.06.94zm-11 1L8.5 8.5l.94-2.06 2.06-.94-2.06-.94L8.5 2.5l-.94 2.06-2.06.94zm10 10l.94 2.06.94-2.06 2.06-.94-2.06-.94-.94-2.06-.94 2.06-2.06.94z\"/><path d=\"M17.41 7.96l-1.37-1.37c-.4-.4-.92-.59-1.43-.59-.52 0-1.04.2-1.43.59L10.3 9.45l-7.72 7.72c-.78.78-.78 2.05 0 2.83L4 21.41c.39.39.9.59 1.41.59.51 0 1.02-.2 1.41-.59l7.78-7.78 2.81-2.81c.8-.78.8-2.07 0-2.86zM5.41 20L4 18.59l7.72-7.72 1.47 1.35L5.41 20z\"/>\n",
       "  </svg>\n",
       "      </button>\n",
       "      \n",
       "  <style>\n",
       "    .colab-df-container {\n",
       "      display:flex;\n",
       "      flex-wrap:wrap;\n",
       "      gap: 12px;\n",
       "    }\n",
       "\n",
       "    .colab-df-convert {\n",
       "      background-color: #E8F0FE;\n",
       "      border: none;\n",
       "      border-radius: 50%;\n",
       "      cursor: pointer;\n",
       "      display: none;\n",
       "      fill: #1967D2;\n",
       "      height: 32px;\n",
       "      padding: 0 0 0 0;\n",
       "      width: 32px;\n",
       "    }\n",
       "\n",
       "    .colab-df-convert:hover {\n",
       "      background-color: #E2EBFA;\n",
       "      box-shadow: 0px 1px 2px rgba(60, 64, 67, 0.3), 0px 1px 3px 1px rgba(60, 64, 67, 0.15);\n",
       "      fill: #174EA6;\n",
       "    }\n",
       "\n",
       "    [theme=dark] .colab-df-convert {\n",
       "      background-color: #3B4455;\n",
       "      fill: #D2E3FC;\n",
       "    }\n",
       "\n",
       "    [theme=dark] .colab-df-convert:hover {\n",
       "      background-color: #434B5C;\n",
       "      box-shadow: 0px 1px 3px 1px rgba(0, 0, 0, 0.15);\n",
       "      filter: drop-shadow(0px 1px 2px rgba(0, 0, 0, 0.3));\n",
       "      fill: #FFFFFF;\n",
       "    }\n",
       "  </style>\n",
       "\n",
       "      <script>\n",
       "        const buttonEl =\n",
       "          document.querySelector('#df-2da86ff9-c98f-45e6-885f-3abb7fe5239c button.colab-df-convert');\n",
       "        buttonEl.style.display =\n",
       "          google.colab.kernel.accessAllowed ? 'block' : 'none';\n",
       "\n",
       "        async function convertToInteractive(key) {\n",
       "          const element = document.querySelector('#df-2da86ff9-c98f-45e6-885f-3abb7fe5239c');\n",
       "          const dataTable =\n",
       "            await google.colab.kernel.invokeFunction('convertToInteractive',\n",
       "                                                     [key], {});\n",
       "          if (!dataTable) return;\n",
       "\n",
       "          const docLinkHtml = 'Like what you see? Visit the ' +\n",
       "            '<a target=\"_blank\" href=https://colab.research.google.com/notebooks/data_table.ipynb>data table notebook</a>'\n",
       "            + ' to learn more about interactive tables.';\n",
       "          element.innerHTML = '';\n",
       "          dataTable['output_type'] = 'display_data';\n",
       "          await google.colab.output.renderOutput(dataTable, element);\n",
       "          const docLink = document.createElement('div');\n",
       "          docLink.innerHTML = docLinkHtml;\n",
       "          element.appendChild(docLink);\n",
       "        }\n",
       "      </script>\n",
       "    </div>\n",
       "  </div>\n",
       "  "
      ],
      "text/plain": [
       "  northeast northwest southeast southwest\n",
       "0       0.0       0.0       1.0       0.0\n",
       "1       1.0       0.0       0.0       0.0\n",
       "2       1.0       0.0       0.0       0.0\n",
       "3       0.0       0.0       1.0       0.0\n",
       "4       0.0       0.0       1.0       0.0"
      ]
     },
     "execution_count": 30,
     "metadata": {},
     "output_type": "execute_result"
    }
   ],
   "source": [
    "from sklearn.preprocessing import OneHotEncoder\n",
    "\n",
    "# кодируем с помощью ohe фичу region\n",
    "ohe = OneHotEncoder(handle_unknown='ignore')\n",
    "train_enc = pd.DataFrame(ohe.fit_transform(train[['region']]).toarray(), columns = ohe.categories_)\n",
    "test_enc = pd.DataFrame(ohe.transform(test[['region']]).toarray(), columns = ohe.categories_)\n",
    "\n",
    "train_enc.head()"
   ]
  },
  {
   "cell_type": "code",
   "execution_count": null,
   "metadata": {
    "colab": {
     "base_uri": "https://localhost:8080/",
     "height": 206
    },
    "id": "2lsMFZ52PbeK",
    "outputId": "866255ba-e3e1-4e1b-b2b7-0dfa602cc888"
   },
   "outputs": [
    {
     "data": {
      "text/html": [
       "\n",
       "  <div id=\"df-db8a5de6-2cca-450c-abd4-38763379dae6\">\n",
       "    <div class=\"colab-df-container\">\n",
       "      <div>\n",
       "<style scoped>\n",
       "    .dataframe tbody tr th:only-of-type {\n",
       "        vertical-align: middle;\n",
       "    }\n",
       "\n",
       "    .dataframe tbody tr th {\n",
       "        vertical-align: top;\n",
       "    }\n",
       "\n",
       "    .dataframe thead th {\n",
       "        text-align: right;\n",
       "    }\n",
       "</style>\n",
       "<table border=\"1\" class=\"dataframe\">\n",
       "  <thead>\n",
       "    <tr style=\"text-align: right;\">\n",
       "      <th></th>\n",
       "      <th>age</th>\n",
       "      <th>bmi</th>\n",
       "      <th>charges</th>\n",
       "      <th>(northeast,)</th>\n",
       "      <th>(northwest,)</th>\n",
       "      <th>(southeast,)</th>\n",
       "      <th>(southwest,)</th>\n",
       "    </tr>\n",
       "  </thead>\n",
       "  <tbody>\n",
       "    <tr>\n",
       "      <th>521</th>\n",
       "      <td>32</td>\n",
       "      <td>44.220</td>\n",
       "      <td>3994.17780</td>\n",
       "      <td>0.0</td>\n",
       "      <td>0.0</td>\n",
       "      <td>1.0</td>\n",
       "      <td>0.0</td>\n",
       "    </tr>\n",
       "    <tr>\n",
       "      <th>579</th>\n",
       "      <td>25</td>\n",
       "      <td>23.465</td>\n",
       "      <td>3206.49135</td>\n",
       "      <td>1.0</td>\n",
       "      <td>0.0</td>\n",
       "      <td>0.0</td>\n",
       "      <td>0.0</td>\n",
       "    </tr>\n",
       "    <tr>\n",
       "      <th>671</th>\n",
       "      <td>29</td>\n",
       "      <td>31.160</td>\n",
       "      <td>3943.59540</td>\n",
       "      <td>1.0</td>\n",
       "      <td>0.0</td>\n",
       "      <td>0.0</td>\n",
       "      <td>0.0</td>\n",
       "    </tr>\n",
       "    <tr>\n",
       "      <th>789</th>\n",
       "      <td>62</td>\n",
       "      <td>29.920</td>\n",
       "      <td>13457.96080</td>\n",
       "      <td>0.0</td>\n",
       "      <td>0.0</td>\n",
       "      <td>1.0</td>\n",
       "      <td>0.0</td>\n",
       "    </tr>\n",
       "    <tr>\n",
       "      <th>523</th>\n",
       "      <td>38</td>\n",
       "      <td>37.730</td>\n",
       "      <td>5397.61670</td>\n",
       "      <td>0.0</td>\n",
       "      <td>0.0</td>\n",
       "      <td>1.0</td>\n",
       "      <td>0.0</td>\n",
       "    </tr>\n",
       "  </tbody>\n",
       "</table>\n",
       "</div>\n",
       "      <button class=\"colab-df-convert\" onclick=\"convertToInteractive('df-db8a5de6-2cca-450c-abd4-38763379dae6')\"\n",
       "              title=\"Convert this dataframe to an interactive table.\"\n",
       "              style=\"display:none;\">\n",
       "        \n",
       "  <svg xmlns=\"http://www.w3.org/2000/svg\" height=\"24px\"viewBox=\"0 0 24 24\"\n",
       "       width=\"24px\">\n",
       "    <path d=\"M0 0h24v24H0V0z\" fill=\"none\"/>\n",
       "    <path d=\"M18.56 5.44l.94 2.06.94-2.06 2.06-.94-2.06-.94-.94-2.06-.94 2.06-2.06.94zm-11 1L8.5 8.5l.94-2.06 2.06-.94-2.06-.94L8.5 2.5l-.94 2.06-2.06.94zm10 10l.94 2.06.94-2.06 2.06-.94-2.06-.94-.94-2.06-.94 2.06-2.06.94z\"/><path d=\"M17.41 7.96l-1.37-1.37c-.4-.4-.92-.59-1.43-.59-.52 0-1.04.2-1.43.59L10.3 9.45l-7.72 7.72c-.78.78-.78 2.05 0 2.83L4 21.41c.39.39.9.59 1.41.59.51 0 1.02-.2 1.41-.59l7.78-7.78 2.81-2.81c.8-.78.8-2.07 0-2.86zM5.41 20L4 18.59l7.72-7.72 1.47 1.35L5.41 20z\"/>\n",
       "  </svg>\n",
       "      </button>\n",
       "      \n",
       "  <style>\n",
       "    .colab-df-container {\n",
       "      display:flex;\n",
       "      flex-wrap:wrap;\n",
       "      gap: 12px;\n",
       "    }\n",
       "\n",
       "    .colab-df-convert {\n",
       "      background-color: #E8F0FE;\n",
       "      border: none;\n",
       "      border-radius: 50%;\n",
       "      cursor: pointer;\n",
       "      display: none;\n",
       "      fill: #1967D2;\n",
       "      height: 32px;\n",
       "      padding: 0 0 0 0;\n",
       "      width: 32px;\n",
       "    }\n",
       "\n",
       "    .colab-df-convert:hover {\n",
       "      background-color: #E2EBFA;\n",
       "      box-shadow: 0px 1px 2px rgba(60, 64, 67, 0.3), 0px 1px 3px 1px rgba(60, 64, 67, 0.15);\n",
       "      fill: #174EA6;\n",
       "    }\n",
       "\n",
       "    [theme=dark] .colab-df-convert {\n",
       "      background-color: #3B4455;\n",
       "      fill: #D2E3FC;\n",
       "    }\n",
       "\n",
       "    [theme=dark] .colab-df-convert:hover {\n",
       "      background-color: #434B5C;\n",
       "      box-shadow: 0px 1px 3px 1px rgba(0, 0, 0, 0.15);\n",
       "      filter: drop-shadow(0px 1px 2px rgba(0, 0, 0, 0.3));\n",
       "      fill: #FFFFFF;\n",
       "    }\n",
       "  </style>\n",
       "\n",
       "      <script>\n",
       "        const buttonEl =\n",
       "          document.querySelector('#df-db8a5de6-2cca-450c-abd4-38763379dae6 button.colab-df-convert');\n",
       "        buttonEl.style.display =\n",
       "          google.colab.kernel.accessAllowed ? 'block' : 'none';\n",
       "\n",
       "        async function convertToInteractive(key) {\n",
       "          const element = document.querySelector('#df-db8a5de6-2cca-450c-abd4-38763379dae6');\n",
       "          const dataTable =\n",
       "            await google.colab.kernel.invokeFunction('convertToInteractive',\n",
       "                                                     [key], {});\n",
       "          if (!dataTable) return;\n",
       "\n",
       "          const docLinkHtml = 'Like what you see? Visit the ' +\n",
       "            '<a target=\"_blank\" href=https://colab.research.google.com/notebooks/data_table.ipynb>data table notebook</a>'\n",
       "            + ' to learn more about interactive tables.';\n",
       "          element.innerHTML = '';\n",
       "          dataTable['output_type'] = 'display_data';\n",
       "          await google.colab.output.renderOutput(dataTable, element);\n",
       "          const docLink = document.createElement('div');\n",
       "          docLink.innerHTML = docLinkHtml;\n",
       "          element.appendChild(docLink);\n",
       "        }\n",
       "      </script>\n",
       "    </div>\n",
       "  </div>\n",
       "  "
      ],
      "text/plain": [
       "     age     bmi      charges  (northeast,)  (northwest,)  (southeast,)  \\\n",
       "521   32  44.220   3994.17780           0.0           0.0           1.0   \n",
       "579   25  23.465   3206.49135           1.0           0.0           0.0   \n",
       "671   29  31.160   3943.59540           1.0           0.0           0.0   \n",
       "789   62  29.920  13457.96080           0.0           0.0           1.0   \n",
       "523   38  37.730   5397.61670           0.0           0.0           1.0   \n",
       "\n",
       "     (southwest,)  \n",
       "521           0.0  \n",
       "579           0.0  \n",
       "671           0.0  \n",
       "789           0.0  \n",
       "523           0.0  "
      ]
     },
     "execution_count": 31,
     "metadata": {},
     "output_type": "execute_result"
    }
   ],
   "source": [
    "# добавляем преобразованную категориальную фичу в датафрейм. исходное представление фичи дропаем\n",
    "train = train.join(train_enc.set_index(train.index)).drop(['region'], axis=1)\n",
    "test = test.join(test_enc.set_index(test.index)).drop(['region'], axis=1)\n",
    "train.head()"
   ]
  },
  {
   "cell_type": "code",
   "execution_count": null,
   "metadata": {
    "colab": {
     "base_uri": "https://localhost:8080/"
    },
    "id": "AEZOpYSMNUrb",
    "outputId": "82f52fc4-1544-4fa6-bbcc-2e7479b7c811"
   },
   "outputs": [
    {
     "name": "stderr",
     "output_type": "stream",
     "text": [
      "/usr/local/lib/python3.7/dist-packages/sklearn/utils/validation.py:1692: FutureWarning: Feature names only support names that are all strings. Got feature names with dtypes: ['str', 'tuple']. An error will be raised in 1.2.\n",
      "  FutureWarning,\n",
      "/usr/local/lib/python3.7/dist-packages/sklearn/utils/validation.py:1692: FutureWarning: Feature names only support names that are all strings. Got feature names with dtypes: ['str', 'tuple']. An error will be raised in 1.2.\n",
      "  FutureWarning,\n"
     ]
    },
    {
     "data": {
      "text/plain": [
       "535.5915097964667"
      ]
     },
     "execution_count": 32,
     "metadata": {},
     "output_type": "execute_result"
    }
   ],
   "source": [
    "lr.fit(train.drop(['charges'], axis=1), train.charges)\n",
    "pred = lr.predict(test.drop(['charges'], axis=1))\n",
    "mean_absolute_error(test.charges, pred)"
   ]
  }
 ],
 "metadata": {
  "colab": {
   "collapsed_sections": [],
   "name": "23.2 Практика.ipynb",
   "provenance": []
  },
  "kernelspec": {
   "display_name": "Python 3 (ipykernel)",
   "language": "python",
   "name": "python3"
  },
  "language_info": {
   "codemirror_mode": {
    "name": "ipython",
    "version": 3
   },
   "file_extension": ".py",
   "mimetype": "text/x-python",
   "name": "python",
   "nbconvert_exporter": "python",
   "pygments_lexer": "ipython3",
   "version": "3.9.7"
  }
 },
 "nbformat": 4,
 "nbformat_minor": 1
}
