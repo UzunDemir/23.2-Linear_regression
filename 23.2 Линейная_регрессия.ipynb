{
 "cells": [
  {
   "cell_type": "code",
   "execution_count": 1,
   "id": "1214567a",
   "metadata": {
    "id": "1214567a"
   },
   "outputs": [],
   "source": [
    "import matplotlib.pyplot as plt\n",
    "import pandas as pd\n",
    "\n",
    "from sklearn.model_selection import train_test_split "
   ]
  },
  {
   "cell_type": "markdown",
   "id": "5d3eb4f7",
   "metadata": {
    "id": "5d3eb4f7"
   },
   "source": [
    "**Описание данных:**\n",
    "\n",
    "*age*: возраст\n",
    "\n",
    "*sex*: пол женский/мужской\n",
    "\n",
    "*bmi*: индекс массы тела\n",
    "\n",
    "*children*: количество детей, входящих в страховку/иждивенцов\n",
    "\n",
    "*smoker*: курящий/не курящий\n",
    "\n",
    "*region*: район проживания в США, северо-восток, юго-восток, юго-запад, северо-запад.\n",
    "\n",
    "*charges*: расходы по страховке"
   ]
  },
  {
   "cell_type": "code",
   "execution_count": 3,
   "id": "ada033ee",
   "metadata": {
    "id": "ada033ee",
    "outputId": "6c592446-52a7-408d-f1b2-a4b62d7a91dc"
   },
   "outputs": [
    {
     "data": {
      "text/html": [
       "<div>\n",
       "<style scoped>\n",
       "    .dataframe tbody tr th:only-of-type {\n",
       "        vertical-align: middle;\n",
       "    }\n",
       "\n",
       "    .dataframe tbody tr th {\n",
       "        vertical-align: top;\n",
       "    }\n",
       "\n",
       "    .dataframe thead th {\n",
       "        text-align: right;\n",
       "    }\n",
       "</style>\n",
       "<table border=\"1\" class=\"dataframe\">\n",
       "  <thead>\n",
       "    <tr style=\"text-align: right;\">\n",
       "      <th></th>\n",
       "      <th>age</th>\n",
       "      <th>sex</th>\n",
       "      <th>bmi</th>\n",
       "      <th>children</th>\n",
       "      <th>smoker</th>\n",
       "      <th>region</th>\n",
       "      <th>charges</th>\n",
       "    </tr>\n",
       "  </thead>\n",
       "  <tbody>\n",
       "    <tr>\n",
       "      <th>0</th>\n",
       "      <td>19</td>\n",
       "      <td>female</td>\n",
       "      <td>27.900</td>\n",
       "      <td>0</td>\n",
       "      <td>yes</td>\n",
       "      <td>southwest</td>\n",
       "      <td>16884.92400</td>\n",
       "    </tr>\n",
       "    <tr>\n",
       "      <th>1</th>\n",
       "      <td>18</td>\n",
       "      <td>male</td>\n",
       "      <td>33.770</td>\n",
       "      <td>1</td>\n",
       "      <td>no</td>\n",
       "      <td>southeast</td>\n",
       "      <td>1725.55230</td>\n",
       "    </tr>\n",
       "    <tr>\n",
       "      <th>2</th>\n",
       "      <td>28</td>\n",
       "      <td>male</td>\n",
       "      <td>33.000</td>\n",
       "      <td>3</td>\n",
       "      <td>no</td>\n",
       "      <td>southeast</td>\n",
       "      <td>4449.46200</td>\n",
       "    </tr>\n",
       "    <tr>\n",
       "      <th>3</th>\n",
       "      <td>33</td>\n",
       "      <td>male</td>\n",
       "      <td>22.705</td>\n",
       "      <td>0</td>\n",
       "      <td>no</td>\n",
       "      <td>northwest</td>\n",
       "      <td>21984.47061</td>\n",
       "    </tr>\n",
       "    <tr>\n",
       "      <th>4</th>\n",
       "      <td>32</td>\n",
       "      <td>male</td>\n",
       "      <td>28.880</td>\n",
       "      <td>0</td>\n",
       "      <td>no</td>\n",
       "      <td>northwest</td>\n",
       "      <td>3866.85520</td>\n",
       "    </tr>\n",
       "    <tr>\n",
       "      <th>...</th>\n",
       "      <td>...</td>\n",
       "      <td>...</td>\n",
       "      <td>...</td>\n",
       "      <td>...</td>\n",
       "      <td>...</td>\n",
       "      <td>...</td>\n",
       "      <td>...</td>\n",
       "    </tr>\n",
       "    <tr>\n",
       "      <th>1333</th>\n",
       "      <td>50</td>\n",
       "      <td>male</td>\n",
       "      <td>30.970</td>\n",
       "      <td>3</td>\n",
       "      <td>no</td>\n",
       "      <td>northwest</td>\n",
       "      <td>10600.54830</td>\n",
       "    </tr>\n",
       "    <tr>\n",
       "      <th>1334</th>\n",
       "      <td>18</td>\n",
       "      <td>female</td>\n",
       "      <td>31.920</td>\n",
       "      <td>0</td>\n",
       "      <td>no</td>\n",
       "      <td>northeast</td>\n",
       "      <td>2205.98080</td>\n",
       "    </tr>\n",
       "    <tr>\n",
       "      <th>1335</th>\n",
       "      <td>18</td>\n",
       "      <td>female</td>\n",
       "      <td>36.850</td>\n",
       "      <td>0</td>\n",
       "      <td>no</td>\n",
       "      <td>southeast</td>\n",
       "      <td>1629.83350</td>\n",
       "    </tr>\n",
       "    <tr>\n",
       "      <th>1336</th>\n",
       "      <td>21</td>\n",
       "      <td>female</td>\n",
       "      <td>25.800</td>\n",
       "      <td>0</td>\n",
       "      <td>no</td>\n",
       "      <td>southwest</td>\n",
       "      <td>2007.94500</td>\n",
       "    </tr>\n",
       "    <tr>\n",
       "      <th>1337</th>\n",
       "      <td>61</td>\n",
       "      <td>female</td>\n",
       "      <td>29.070</td>\n",
       "      <td>0</td>\n",
       "      <td>yes</td>\n",
       "      <td>northwest</td>\n",
       "      <td>29141.36030</td>\n",
       "    </tr>\n",
       "  </tbody>\n",
       "</table>\n",
       "<p>1338 rows × 7 columns</p>\n",
       "</div>"
      ],
      "text/plain": [
       "      age     sex     bmi  children smoker     region      charges\n",
       "0      19  female  27.900         0    yes  southwest  16884.92400\n",
       "1      18    male  33.770         1     no  southeast   1725.55230\n",
       "2      28    male  33.000         3     no  southeast   4449.46200\n",
       "3      33    male  22.705         0     no  northwest  21984.47061\n",
       "4      32    male  28.880         0     no  northwest   3866.85520\n",
       "...   ...     ...     ...       ...    ...        ...          ...\n",
       "1333   50    male  30.970         3     no  northwest  10600.54830\n",
       "1334   18  female  31.920         0     no  northeast   2205.98080\n",
       "1335   18  female  36.850         0     no  southeast   1629.83350\n",
       "1336   21  female  25.800         0     no  southwest   2007.94500\n",
       "1337   61  female  29.070         0    yes  northwest  29141.36030\n",
       "\n",
       "[1338 rows x 7 columns]"
      ]
     },
     "execution_count": 3,
     "metadata": {},
     "output_type": "execute_result"
    }
   ],
   "source": [
    "# загрузим датасет\n",
    "df = pd.read_csv('23.2 insurance.csv')\n",
    "df"
   ]
  },
  {
   "cell_type": "code",
   "execution_count": 37,
   "id": "0536b808",
   "metadata": {
    "id": "0536b808"
   },
   "outputs": [],
   "source": [
    "# создадим функцию визуализации данных \n",
    "def show_age_charges(df):\n",
    "    plt.plot(df['age'], df.charges, 'ro') \n",
    "    plt.xlabel('age')\n",
    "    plt.ylabel('charges')\n",
    "    plt.title('Зависимость стоимости страховки от возраста')\n",
    "    plt.show()"
   ]
  },
  {
   "cell_type": "code",
   "execution_count": 38,
   "id": "3c99a1bb",
   "metadata": {
    "id": "3c99a1bb",
    "outputId": "0d137316-c8a1-4f8c-c9ec-96fadab68107"
   },
   "outputs": [
    {
     "data": {
      "image/png": "[encoded data removed]",
      "text/plain": [
       "<Figure size 432x288 with 1 Axes>"
      ]
     },
     "metadata": {
      "needs_background": "light"
     },
     "output_type": "display_data"
    }
   ],
   "source": [
    "show_age_charges(df)"
   ]
  },
  {
   "cell_type": "code",
   "execution_count": 56,
   "id": "2e994c58",
   "metadata": {
    "id": "2e994c58",
    "outputId": "92f390bb-c05e-4b6a-edca-ec6be9da636c"
   },
   "outputs": [
    {
     "data": {
      "text/plain": [
       "(228, 7)"
      ]
     },
     "execution_count": 56,
     "metadata": {},
     "output_type": "execute_result"
    }
   ],
   "source": [
    "# отберем в новый датафрейм клиентов женщин, без детей и с расходами менее 15000\n",
    "df_new = df[(df.children==0) & (df.charges < 15000) & (df.sex == 'female')]\n",
    "df_new.shape"
   ]
  },
  {
   "cell_type": "code",
   "execution_count": 57,
   "id": "9f382eef",
   "metadata": {
    "id": "9f382eef",
    "outputId": "ea09bece-d98c-454e-8cca-c3f9c3c7f23b"
   },
   "outputs": [
    {
     "data": {
      "image/png": "[encoded data removed]",
      "text/plain": [
       "<Figure size 432x288 with 1 Axes>"
      ]
     },
     "metadata": {
      "needs_background": "light"
     },
     "output_type": "display_data"
    }
   ],
   "source": [
    "show_age_charges(df_new)"
   ]
  },
  {
   "cell_type": "code",
   "execution_count": 58,
   "id": "a97b1f52",
   "metadata": {
    "id": "a97b1f52"
   },
   "outputs": [],
   "source": [
    "# разделим этот датафрейм на треноровочную и тестовую выборку\n",
    "train, test = train_test_split(df_new, test_size=0.2, random_state=42)"
   ]
  },
  {
   "cell_type": "code",
   "execution_count": 59,
   "id": "a1be28c7",
   "metadata": {
    "id": "a1be28c7",
    "outputId": "37786630-142f-4b7b-ba3b-adf242bc4a40"
   },
   "outputs": [
    {
     "data": {
      "text/html": [
       "<div>\n",
       "<style scoped>\n",
       "    .dataframe tbody tr th:only-of-type {\n",
       "        vertical-align: middle;\n",
       "    }\n",
       "\n",
       "    .dataframe tbody tr th {\n",
       "        vertical-align: top;\n",
       "    }\n",
       "\n",
       "    .dataframe thead th {\n",
       "        text-align: right;\n",
       "    }\n",
       "</style>\n",
       "<table border=\"1\" class=\"dataframe\">\n",
       "  <thead>\n",
       "    <tr style=\"text-align: right;\">\n",
       "      <th></th>\n",
       "      <th>age</th>\n",
       "      <th>sex</th>\n",
       "      <th>bmi</th>\n",
       "      <th>children</th>\n",
       "      <th>smoker</th>\n",
       "      <th>region</th>\n",
       "      <th>charges</th>\n",
       "    </tr>\n",
       "  </thead>\n",
       "  <tbody>\n",
       "    <tr>\n",
       "      <th>895</th>\n",
       "      <td>61</td>\n",
       "      <td>female</td>\n",
       "      <td>44.000</td>\n",
       "      <td>0</td>\n",
       "      <td>no</td>\n",
       "      <td>southwest</td>\n",
       "      <td>13063.88300</td>\n",
       "    </tr>\n",
       "    <tr>\n",
       "      <th>333</th>\n",
       "      <td>56</td>\n",
       "      <td>female</td>\n",
       "      <td>28.785</td>\n",
       "      <td>0</td>\n",
       "      <td>no</td>\n",
       "      <td>northeast</td>\n",
       "      <td>11658.37915</td>\n",
       "    </tr>\n",
       "    <tr>\n",
       "      <th>973</th>\n",
       "      <td>19</td>\n",
       "      <td>female</td>\n",
       "      <td>40.500</td>\n",
       "      <td>0</td>\n",
       "      <td>no</td>\n",
       "      <td>southwest</td>\n",
       "      <td>1759.33800</td>\n",
       "    </tr>\n",
       "    <tr>\n",
       "      <th>400</th>\n",
       "      <td>51</td>\n",
       "      <td>female</td>\n",
       "      <td>20.600</td>\n",
       "      <td>0</td>\n",
       "      <td>no</td>\n",
       "      <td>southwest</td>\n",
       "      <td>9264.79700</td>\n",
       "    </tr>\n",
       "    <tr>\n",
       "      <th>989</th>\n",
       "      <td>24</td>\n",
       "      <td>female</td>\n",
       "      <td>20.520</td>\n",
       "      <td>0</td>\n",
       "      <td>yes</td>\n",
       "      <td>northeast</td>\n",
       "      <td>14571.89080</td>\n",
       "    </tr>\n",
       "  </tbody>\n",
       "</table>\n",
       "</div>"
      ],
      "text/plain": [
       "     age     sex     bmi  children smoker     region      charges\n",
       "895   61  female  44.000         0     no  southwest  13063.88300\n",
       "333   56  female  28.785         0     no  northeast  11658.37915\n",
       "973   19  female  40.500         0     no  southwest   1759.33800\n",
       "400   51  female  20.600         0     no  southwest   9264.79700\n",
       "989   24  female  20.520         0    yes  northeast  14571.89080"
      ]
     },
     "execution_count": 59,
     "metadata": {},
     "output_type": "execute_result"
    }
   ],
   "source": [
    "# выведим первые пять строк\n",
    "train.head()"
   ]
  },
  {
   "cell_type": "code",
   "execution_count": 60,
   "id": "8534bbf2",
   "metadata": {
    "id": "8534bbf2"
   },
   "outputs": [],
   "source": [
    "# импортируем модуль для обучения модели линнейной регрессии\n",
    "from sklearn.linear_model import LinearRegression\n",
    "\n",
    "lr = LinearRegression()"
   ]
  },
  {
   "cell_type": "code",
   "execution_count": 61,
   "id": "1f18660f",
   "metadata": {
    "id": "1f18660f",
    "outputId": "99566ee7-0362-4195-c9f6-36faecd22f49"
   },
   "outputs": [
    {
     "data": {
      "text/plain": [
       "LinearRegression()"
      ]
     },
     "execution_count": 61,
     "metadata": {},
     "output_type": "execute_result"
    }
   ],
   "source": [
    "# проведем обучение модели по одному признаку-фиче 'age'\n",
    "lr.fit(train[['age']], train.charges)"
   ]
  },
  {
   "cell_type": "markdown",
   "id": "77076262",
   "metadata": {
    "id": "77076262"
   },
   "source": [
    "MAE (mean absolute error)\n",
    "\n",
    "рассчитывается как среднее абсолютных разностей между целевыми значениями и предиктами.![Снимок экрана 2022-04-06 в 13.31.32.png](data:image/png;base64,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)"
   ]
  },
  {
   "cell_type": "markdown",
   "id": "ca292016",
   "metadata": {
    "id": "ca292016"
   },
   "source": [
    "Пример:\n",
    "\n",
    "true = [0, 100, 200]\n",
    "\n",
    "pred = [0, 50, 250]\n",
    "\n",
    "MAE = (0 + 50 + 50)/3 = 33,3"
   ]
  },
  {
   "cell_type": "code",
   "execution_count": 62,
   "id": "93a3d34d",
   "metadata": {
    "id": "93a3d34d"
   },
   "outputs": [],
   "source": [
    "true = [0, 100, 200]\n",
    "pred = [0, 50, 250]"
   ]
  },
  {
   "cell_type": "code",
   "execution_count": 63,
   "id": "1819106f",
   "metadata": {
    "id": "1819106f",
    "outputId": "1bdb4f40-482a-40fc-86a0-d4deddbc863b"
   },
   "outputs": [
    {
     "data": {
      "text/plain": [
       "33.333333333333336"
      ]
     },
     "execution_count": 63,
     "metadata": {},
     "output_type": "execute_result"
    }
   ],
   "source": [
    "# импортируем модуль для расчета МАЕ\n",
    "from sklearn.metrics import mean_absolute_error\n",
    "mean_absolute_error(true, pred)"
   ]
  },
  {
   "cell_type": "code",
   "execution_count": 64,
   "id": "e9cc5be6",
   "metadata": {
    "id": "e9cc5be6",
    "outputId": "b4904806-6cb8-4335-c40e-bdda2d91bd86"
   },
   "outputs": [
    {
     "data": {
      "text/plain": [
       "1556.1082486960813"
      ]
     },
     "execution_count": 64,
     "metadata": {},
     "output_type": "execute_result"
    }
   ],
   "source": [
    "# рассчитаем МАЕ\n",
    "pred = lr.predict(test[['age']])\n",
    "mean_absolute_error(test.charges, pred)"
   ]
  },
  {
   "cell_type": "code",
   "execution_count": 82,
   "id": "c5d3a4a8",
   "metadata": {
    "id": "c5d3a4a8",
    "outputId": "f4295c60-537f-4ad8-df24-445373d0bc2a"
   },
   "outputs": [
    {
     "name": "stdout",
     "output_type": "stream",
     "text": [
      "(197, 7)\n",
      "(197, 7)\n"
     ]
    }
   ],
   "source": [
    "# удалим значения, где charges >= 6000 и age<50\n",
    "indx = df_new[(df_new.charges >= 6000) & (df_new.age<50)].index # сохраним индексы знычений, \n",
    "                                                                # где charges >= 6000 и age<50\n",
    "print(df_new.shape)\n",
    "df_new = df_new.drop(indx) # удалим значения, где charges >= 6000 и age<50\n",
    "print(df_new.shape)"
   ]
  },
  {
   "cell_type": "code",
   "execution_count": 83,
   "id": "5f4cb19c",
   "metadata": {},
   "outputs": [
    {
     "data": {
      "image/png": "[encoded data removed]",
      "text/plain": [
       "<Figure size 432x288 with 1 Axes>"
      ]
     },
     "metadata": {
      "needs_background": "light"
     },
     "output_type": "display_data"
    }
   ],
   "source": [
    "show_age_charges(df_new)"
   ]
  },
  {
   "cell_type": "code",
   "execution_count": 67,
   "id": "ccd2639b",
   "metadata": {
    "id": "ccd2639b",
    "outputId": "67cd4b75-521f-43e9-d429-7a5f26f98600"
   },
   "outputs": [
    {
     "data": {
      "text/plain": [
       "422.38443437781444"
      ]
     },
     "execution_count": 67,
     "metadata": {},
     "output_type": "execute_result"
    }
   ],
   "source": [
    "# разделим этот датафрейм на треноровочную и тестовую выборку\n",
    "train, test = train_test_split(df_new, test_size=0.2, random_state=42)\n",
    "\n",
    "# проведем обучение модели по одному признаку-фиче 'age'\n",
    "lr.fit(train[['age']], train.charges)\n",
    "\n",
    "# рассчитаем МАЕ\n",
    "pred = lr.predict(test[['age']])\n",
    "mean_absolute_error(test.charges, pred)"
   ]
  },
  {
   "cell_type": "code",
   "execution_count": null,
   "id": "d6ed4b58",
   "metadata": {
    "id": "d6ed4b58"
   },
   "outputs": [],
   "source": []
  }
 ],
 "metadata": {
  "colab": {
   "name": "Линейная регрессия.ipynb",
   "provenance": []
  },
  "kernelspec": {
   "display_name": "Python 3 (ipykernel)",
   "language": "python",
   "name": "python3"
  },
  "language_info": {
   "codemirror_mode": {
    "name": "ipython",
    "version": 3
   },
   "file_extension": ".py",
   "mimetype": "text/x-python",
   "name": "python",
   "nbconvert_exporter": "python",
   "pygments_lexer": "ipython3",
   "version": "3.9.7"
  }
 },
 "nbformat": 4,
 "nbformat_minor": 5
}
